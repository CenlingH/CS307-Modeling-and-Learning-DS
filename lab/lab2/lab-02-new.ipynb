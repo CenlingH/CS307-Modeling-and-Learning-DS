{
 "cells": [
  {
   "cell_type": "code",
   "execution_count": 110,
   "metadata": {},
   "outputs": [],
   "source": [
    "import pandas as pd\n",
    "import numpy as np\n",
    "from sklearn.pipeline import Pipeline\n",
    "from sklearn.preprocessing import StandardScaler, OneHotEncoder\n",
    "from sklearn.experimental import enable_iterative_imputer\n",
    "from sklearn.impute import SimpleImputer, IterativeImputer\n",
    "from sklearn.compose import ColumnTransformer\n",
    "from sklearn.neighbors import KNeighborsRegressor\n",
    "from sklearn.model_selection import GridSearchCV, train_test_split\n",
    "from joblib import dump"
   ]
  },
  {
   "cell_type": "code",
   "execution_count": 2,
   "metadata": {},
   "outputs": [],
   "source": [
    "credit_train = pd.read_csv(\"https://cs307.org/lab-02/data/credit-train.csv\")\n",
    "# create X and y for train\n",
    "X_train = credit_train.drop(\"Rating\", axis=1)  # delete the rating column\n",
    "y_train = credit_train[\"Rating\"]"
   ]
  },
  {
   "cell_type": "code",
   "execution_count": 11,
   "metadata": {},
   "outputs": [],
   "source": [
    "# create validation train and validation \n",
    "X_vtrain, X_validation, y_vtrain, y_validation = train_test_split(X_train, y_train, test_size=0.2, random_state=42)"
   ]
  },
  {
   "cell_type": "code",
   "execution_count": 65,
   "metadata": {},
   "outputs": [],
   "source": [
    "# split the data into numerical and categorical\n",
    "numeric_features=X_train.select_dtypes(include=[\"float64\"]).columns\n",
    "categorical_features=X_train.select_dtypes(include=[\"object\"]).columns\n",
    "# define how to handle missing data and scale features for numeric and categorical features\n",
    "numeric_transformer = Pipeline(\n",
    "    steps=[\n",
    "        (\"Iterative Imputer\", IterativeImputer(max_iter=10, random_state=0)),\n",
    "        (\"Standardization\", StandardScaler()),\n",
    "    ]\n",
    ")\n",
    "categorical_transformer = Pipeline(\n",
    "    steps=[\n",
    "        (\"Modal Imputer\", SimpleImputer(strategy=\"most_frequent\")),\n",
    "        (\"One-Hot Encoder\", OneHotEncoder(handle_unknown=\"ignore\")),\n",
    "    ]\n",
    ")\n",
    "# create general preprocessor\n",
    "preprocessor = ColumnTransformer(\n",
    "    transformers=[\n",
    "        (\"Numeric Transformer\", numeric_transformer, numeric_features),\n",
    "        (\"Categorical Transformer\", categorical_transformer, categorical_features),\n",
    "    ],\n",
    "    remainder=\"drop\",\n",
    ")"
   ]
  },
  {
   "cell_type": "code",
   "execution_count": 13,
   "metadata": {},
   "outputs": [],
   "source": [
    "# 创建包含预处理和回归器的Pipeline\n",
    "model_pipeline = Pipeline(steps=[\n",
    "    (\"Preprocessor\", preprocessor),\n",
    "    (\"Regressor\", KNeighborsRegressor())\n",
    "])"
   ]
  },
  {
   "cell_type": "code",
   "execution_count": 106,
   "metadata": {},
   "outputs": [
    {
     "data": {
      "text/html": [
       "<style>#sk-container-id-15 {color: black;}#sk-container-id-15 pre{padding: 0;}#sk-container-id-15 div.sk-toggleable {background-color: white;}#sk-container-id-15 label.sk-toggleable__label {cursor: pointer;display: block;width: 100%;margin-bottom: 0;padding: 0.3em;box-sizing: border-box;text-align: center;}#sk-container-id-15 label.sk-toggleable__label-arrow:before {content: \"▸\";float: left;margin-right: 0.25em;color: #696969;}#sk-container-id-15 label.sk-toggleable__label-arrow:hover:before {color: black;}#sk-container-id-15 div.sk-estimator:hover label.sk-toggleable__label-arrow:before {color: black;}#sk-container-id-15 div.sk-toggleable__content {max-height: 0;max-width: 0;overflow: hidden;text-align: left;background-color: #f0f8ff;}#sk-container-id-15 div.sk-toggleable__content pre {margin: 0.2em;color: black;border-radius: 0.25em;background-color: #f0f8ff;}#sk-container-id-15 input.sk-toggleable__control:checked~div.sk-toggleable__content {max-height: 200px;max-width: 100%;overflow: auto;}#sk-container-id-15 input.sk-toggleable__control:checked~label.sk-toggleable__label-arrow:before {content: \"▾\";}#sk-container-id-15 div.sk-estimator input.sk-toggleable__control:checked~label.sk-toggleable__label {background-color: #d4ebff;}#sk-container-id-15 div.sk-label input.sk-toggleable__control:checked~label.sk-toggleable__label {background-color: #d4ebff;}#sk-container-id-15 input.sk-hidden--visually {border: 0;clip: rect(1px 1px 1px 1px);clip: rect(1px, 1px, 1px, 1px);height: 1px;margin: -1px;overflow: hidden;padding: 0;position: absolute;width: 1px;}#sk-container-id-15 div.sk-estimator {font-family: monospace;background-color: #f0f8ff;border: 1px dotted black;border-radius: 0.25em;box-sizing: border-box;margin-bottom: 0.5em;}#sk-container-id-15 div.sk-estimator:hover {background-color: #d4ebff;}#sk-container-id-15 div.sk-parallel-item::after {content: \"\";width: 100%;border-bottom: 1px solid gray;flex-grow: 1;}#sk-container-id-15 div.sk-label:hover label.sk-toggleable__label {background-color: #d4ebff;}#sk-container-id-15 div.sk-serial::before {content: \"\";position: absolute;border-left: 1px solid gray;box-sizing: border-box;top: 0;bottom: 0;left: 50%;z-index: 0;}#sk-container-id-15 div.sk-serial {display: flex;flex-direction: column;align-items: center;background-color: white;padding-right: 0.2em;padding-left: 0.2em;position: relative;}#sk-container-id-15 div.sk-item {position: relative;z-index: 1;}#sk-container-id-15 div.sk-parallel {display: flex;align-items: stretch;justify-content: center;background-color: white;position: relative;}#sk-container-id-15 div.sk-item::before, #sk-container-id-15 div.sk-parallel-item::before {content: \"\";position: absolute;border-left: 1px solid gray;box-sizing: border-box;top: 0;bottom: 0;left: 50%;z-index: -1;}#sk-container-id-15 div.sk-parallel-item {display: flex;flex-direction: column;z-index: 1;position: relative;background-color: white;}#sk-container-id-15 div.sk-parallel-item:first-child::after {align-self: flex-end;width: 50%;}#sk-container-id-15 div.sk-parallel-item:last-child::after {align-self: flex-start;width: 50%;}#sk-container-id-15 div.sk-parallel-item:only-child::after {width: 0;}#sk-container-id-15 div.sk-dashed-wrapped {border: 1px dashed gray;margin: 0 0.4em 0.5em 0.4em;box-sizing: border-box;padding-bottom: 0.4em;background-color: white;}#sk-container-id-15 div.sk-label label {font-family: monospace;font-weight: bold;display: inline-block;line-height: 1.2em;}#sk-container-id-15 div.sk-label-container {text-align: center;}#sk-container-id-15 div.sk-container {/* jupyter's `normalize.less` sets `[hidden] { display: none; }` but bootstrap.min.css set `[hidden] { display: none !important; }` so we also need the `!important` here to be able to override the default hidden behavior on the sphinx rendered scikit-learn.org. See: https://github.com/scikit-learn/scikit-learn/issues/21755 */display: inline-block !important;position: relative;}#sk-container-id-15 div.sk-text-repr-fallback {display: none;}</style><div id=\"sk-container-id-15\" class=\"sk-top-container\"><div class=\"sk-text-repr-fallback\"><pre>GridSearchCV(cv=230,\n",
       "             estimator=Pipeline(steps=[(&#x27;Preprocessor&#x27;,\n",
       "                                        ColumnTransformer(transformers=[(&#x27;Numeric &#x27;\n",
       "                                                                         &#x27;Transformer&#x27;,\n",
       "                                                                         Pipeline(steps=[(&#x27;Iterative &#x27;\n",
       "                                                                                          &#x27;Imputer&#x27;,\n",
       "                                                                                          IterativeImputer(random_state=0)),\n",
       "                                                                                         (&#x27;Standardization&#x27;,\n",
       "                                                                                          StandardScaler())]),\n",
       "                                                                         Index([&#x27;Income&#x27;, &#x27;Age&#x27;, &#x27;Education&#x27;], dtype=&#x27;object&#x27;)),\n",
       "                                                                        (&#x27;Categorical &#x27;\n",
       "                                                                         &#x27;Transformer&#x27;,\n",
       "                                                                         Pipeline(steps=[(&#x27;Modal &#x27;\n",
       "                                                                                          &#x27;Imputer&#x27;,\n",
       "                                                                                          SimpleI...\n",
       "                                                                                         (&#x27;One-Hot &#x27;\n",
       "                                                                                          &#x27;Encoder&#x27;,\n",
       "                                                                                          OneHotEncoder(handle_unknown=&#x27;ignore&#x27;))]),\n",
       "                                                                         Index([&#x27;Gender&#x27;, &#x27;Student&#x27;, &#x27;Married&#x27;, &#x27;Ethnicity&#x27;], dtype=&#x27;object&#x27;))])),\n",
       "                                       (&#x27;Regressor&#x27;, KNeighborsRegressor())]),\n",
       "             param_grid={&#x27;Regressor__metric&#x27;: [&#x27;euclidean&#x27;, &#x27;manhattan&#x27;,\n",
       "                                               &#x27;chebyshev&#x27;],\n",
       "                         &#x27;Regressor__n_neighbors&#x27;: range(1, 20),\n",
       "                         &#x27;Regressor__weights&#x27;: [&#x27;uniform&#x27;, &#x27;distance&#x27;]},\n",
       "             scoring=&#x27;neg_mean_squared_error&#x27;)</pre><b>In a Jupyter environment, please rerun this cell to show the HTML representation or trust the notebook. <br />On GitHub, the HTML representation is unable to render, please try loading this page with nbviewer.org.</b></div><div class=\"sk-container\" hidden><div class=\"sk-item sk-dashed-wrapped\"><div class=\"sk-label-container\"><div class=\"sk-label sk-toggleable\"><input class=\"sk-toggleable__control sk-hidden--visually\" id=\"sk-estimator-id-141\" type=\"checkbox\" ><label for=\"sk-estimator-id-141\" class=\"sk-toggleable__label sk-toggleable__label-arrow\">GridSearchCV</label><div class=\"sk-toggleable__content\"><pre>GridSearchCV(cv=230,\n",
       "             estimator=Pipeline(steps=[(&#x27;Preprocessor&#x27;,\n",
       "                                        ColumnTransformer(transformers=[(&#x27;Numeric &#x27;\n",
       "                                                                         &#x27;Transformer&#x27;,\n",
       "                                                                         Pipeline(steps=[(&#x27;Iterative &#x27;\n",
       "                                                                                          &#x27;Imputer&#x27;,\n",
       "                                                                                          IterativeImputer(random_state=0)),\n",
       "                                                                                         (&#x27;Standardization&#x27;,\n",
       "                                                                                          StandardScaler())]),\n",
       "                                                                         Index([&#x27;Income&#x27;, &#x27;Age&#x27;, &#x27;Education&#x27;], dtype=&#x27;object&#x27;)),\n",
       "                                                                        (&#x27;Categorical &#x27;\n",
       "                                                                         &#x27;Transformer&#x27;,\n",
       "                                                                         Pipeline(steps=[(&#x27;Modal &#x27;\n",
       "                                                                                          &#x27;Imputer&#x27;,\n",
       "                                                                                          SimpleI...\n",
       "                                                                                         (&#x27;One-Hot &#x27;\n",
       "                                                                                          &#x27;Encoder&#x27;,\n",
       "                                                                                          OneHotEncoder(handle_unknown=&#x27;ignore&#x27;))]),\n",
       "                                                                         Index([&#x27;Gender&#x27;, &#x27;Student&#x27;, &#x27;Married&#x27;, &#x27;Ethnicity&#x27;], dtype=&#x27;object&#x27;))])),\n",
       "                                       (&#x27;Regressor&#x27;, KNeighborsRegressor())]),\n",
       "             param_grid={&#x27;Regressor__metric&#x27;: [&#x27;euclidean&#x27;, &#x27;manhattan&#x27;,\n",
       "                                               &#x27;chebyshev&#x27;],\n",
       "                         &#x27;Regressor__n_neighbors&#x27;: range(1, 20),\n",
       "                         &#x27;Regressor__weights&#x27;: [&#x27;uniform&#x27;, &#x27;distance&#x27;]},\n",
       "             scoring=&#x27;neg_mean_squared_error&#x27;)</pre></div></div></div><div class=\"sk-parallel\"><div class=\"sk-parallel-item\"><div class=\"sk-item\"><div class=\"sk-label-container\"><div class=\"sk-label sk-toggleable\"><input class=\"sk-toggleable__control sk-hidden--visually\" id=\"sk-estimator-id-142\" type=\"checkbox\" ><label for=\"sk-estimator-id-142\" class=\"sk-toggleable__label sk-toggleable__label-arrow\">estimator: Pipeline</label><div class=\"sk-toggleable__content\"><pre>Pipeline(steps=[(&#x27;Preprocessor&#x27;,\n",
       "                 ColumnTransformer(transformers=[(&#x27;Numeric Transformer&#x27;,\n",
       "                                                  Pipeline(steps=[(&#x27;Iterative &#x27;\n",
       "                                                                   &#x27;Imputer&#x27;,\n",
       "                                                                   IterativeImputer(random_state=0)),\n",
       "                                                                  (&#x27;Standardization&#x27;,\n",
       "                                                                   StandardScaler())]),\n",
       "                                                  Index([&#x27;Income&#x27;, &#x27;Age&#x27;, &#x27;Education&#x27;], dtype=&#x27;object&#x27;)),\n",
       "                                                 (&#x27;Categorical Transformer&#x27;,\n",
       "                                                  Pipeline(steps=[(&#x27;Modal &#x27;\n",
       "                                                                   &#x27;Imputer&#x27;,\n",
       "                                                                   SimpleImputer(strategy=&#x27;most_frequent&#x27;)),\n",
       "                                                                  (&#x27;One-Hot &#x27;\n",
       "                                                                   &#x27;Encoder&#x27;,\n",
       "                                                                   OneHotEncoder(handle_unknown=&#x27;ignore&#x27;))]),\n",
       "                                                  Index([&#x27;Gender&#x27;, &#x27;Student&#x27;, &#x27;Married&#x27;, &#x27;Ethnicity&#x27;], dtype=&#x27;object&#x27;))])),\n",
       "                (&#x27;Regressor&#x27;, KNeighborsRegressor())])</pre></div></div></div><div class=\"sk-serial\"><div class=\"sk-item\"><div class=\"sk-serial\"><div class=\"sk-item sk-dashed-wrapped\"><div class=\"sk-label-container\"><div class=\"sk-label sk-toggleable\"><input class=\"sk-toggleable__control sk-hidden--visually\" id=\"sk-estimator-id-143\" type=\"checkbox\" ><label for=\"sk-estimator-id-143\" class=\"sk-toggleable__label sk-toggleable__label-arrow\">Preprocessor: ColumnTransformer</label><div class=\"sk-toggleable__content\"><pre>ColumnTransformer(transformers=[(&#x27;Numeric Transformer&#x27;,\n",
       "                                 Pipeline(steps=[(&#x27;Iterative Imputer&#x27;,\n",
       "                                                  IterativeImputer(random_state=0)),\n",
       "                                                 (&#x27;Standardization&#x27;,\n",
       "                                                  StandardScaler())]),\n",
       "                                 Index([&#x27;Income&#x27;, &#x27;Age&#x27;, &#x27;Education&#x27;], dtype=&#x27;object&#x27;)),\n",
       "                                (&#x27;Categorical Transformer&#x27;,\n",
       "                                 Pipeline(steps=[(&#x27;Modal Imputer&#x27;,\n",
       "                                                  SimpleImputer(strategy=&#x27;most_frequent&#x27;)),\n",
       "                                                 (&#x27;One-Hot Encoder&#x27;,\n",
       "                                                  OneHotEncoder(handle_unknown=&#x27;ignore&#x27;))]),\n",
       "                                 Index([&#x27;Gender&#x27;, &#x27;Student&#x27;, &#x27;Married&#x27;, &#x27;Ethnicity&#x27;], dtype=&#x27;object&#x27;))])</pre></div></div></div><div class=\"sk-parallel\"><div class=\"sk-parallel-item\"><div class=\"sk-item\"><div class=\"sk-label-container\"><div class=\"sk-label sk-toggleable\"><input class=\"sk-toggleable__control sk-hidden--visually\" id=\"sk-estimator-id-144\" type=\"checkbox\" ><label for=\"sk-estimator-id-144\" class=\"sk-toggleable__label sk-toggleable__label-arrow\">Numeric Transformer</label><div class=\"sk-toggleable__content\"><pre>Index([&#x27;Income&#x27;, &#x27;Age&#x27;, &#x27;Education&#x27;], dtype=&#x27;object&#x27;)</pre></div></div></div><div class=\"sk-serial\"><div class=\"sk-item\"><div class=\"sk-serial\"><div class=\"sk-item\"><div class=\"sk-estimator sk-toggleable\"><input class=\"sk-toggleable__control sk-hidden--visually\" id=\"sk-estimator-id-145\" type=\"checkbox\" ><label for=\"sk-estimator-id-145\" class=\"sk-toggleable__label sk-toggleable__label-arrow\">IterativeImputer</label><div class=\"sk-toggleable__content\"><pre>IterativeImputer(random_state=0)</pre></div></div></div><div class=\"sk-item\"><div class=\"sk-estimator sk-toggleable\"><input class=\"sk-toggleable__control sk-hidden--visually\" id=\"sk-estimator-id-146\" type=\"checkbox\" ><label for=\"sk-estimator-id-146\" class=\"sk-toggleable__label sk-toggleable__label-arrow\">StandardScaler</label><div class=\"sk-toggleable__content\"><pre>StandardScaler()</pre></div></div></div></div></div></div></div></div><div class=\"sk-parallel-item\"><div class=\"sk-item\"><div class=\"sk-label-container\"><div class=\"sk-label sk-toggleable\"><input class=\"sk-toggleable__control sk-hidden--visually\" id=\"sk-estimator-id-147\" type=\"checkbox\" ><label for=\"sk-estimator-id-147\" class=\"sk-toggleable__label sk-toggleable__label-arrow\">Categorical Transformer</label><div class=\"sk-toggleable__content\"><pre>Index([&#x27;Gender&#x27;, &#x27;Student&#x27;, &#x27;Married&#x27;, &#x27;Ethnicity&#x27;], dtype=&#x27;object&#x27;)</pre></div></div></div><div class=\"sk-serial\"><div class=\"sk-item\"><div class=\"sk-serial\"><div class=\"sk-item\"><div class=\"sk-estimator sk-toggleable\"><input class=\"sk-toggleable__control sk-hidden--visually\" id=\"sk-estimator-id-148\" type=\"checkbox\" ><label for=\"sk-estimator-id-148\" class=\"sk-toggleable__label sk-toggleable__label-arrow\">SimpleImputer</label><div class=\"sk-toggleable__content\"><pre>SimpleImputer(strategy=&#x27;most_frequent&#x27;)</pre></div></div></div><div class=\"sk-item\"><div class=\"sk-estimator sk-toggleable\"><input class=\"sk-toggleable__control sk-hidden--visually\" id=\"sk-estimator-id-149\" type=\"checkbox\" ><label for=\"sk-estimator-id-149\" class=\"sk-toggleable__label sk-toggleable__label-arrow\">OneHotEncoder</label><div class=\"sk-toggleable__content\"><pre>OneHotEncoder(handle_unknown=&#x27;ignore&#x27;)</pre></div></div></div></div></div></div></div></div></div></div><div class=\"sk-item\"><div class=\"sk-estimator sk-toggleable\"><input class=\"sk-toggleable__control sk-hidden--visually\" id=\"sk-estimator-id-150\" type=\"checkbox\" ><label for=\"sk-estimator-id-150\" class=\"sk-toggleable__label sk-toggleable__label-arrow\">KNeighborsRegressor</label><div class=\"sk-toggleable__content\"><pre>KNeighborsRegressor()</pre></div></div></div></div></div></div></div></div></div></div></div></div>"
      ],
      "text/plain": [
       "GridSearchCV(cv=230,\n",
       "             estimator=Pipeline(steps=[('Preprocessor',\n",
       "                                        ColumnTransformer(transformers=[('Numeric '\n",
       "                                                                         'Transformer',\n",
       "                                                                         Pipeline(steps=[('Iterative '\n",
       "                                                                                          'Imputer',\n",
       "                                                                                          IterativeImputer(random_state=0)),\n",
       "                                                                                         ('Standardization',\n",
       "                                                                                          StandardScaler())]),\n",
       "                                                                         Index(['Income', 'Age', 'Education'], dtype='object')),\n",
       "                                                                        ('Categorical '\n",
       "                                                                         'Transformer',\n",
       "                                                                         Pipeline(steps=[('Modal '\n",
       "                                                                                          'Imputer',\n",
       "                                                                                          SimpleI...\n",
       "                                                                                         ('One-Hot '\n",
       "                                                                                          'Encoder',\n",
       "                                                                                          OneHotEncoder(handle_unknown='ignore'))]),\n",
       "                                                                         Index(['Gender', 'Student', 'Married', 'Ethnicity'], dtype='object'))])),\n",
       "                                       ('Regressor', KNeighborsRegressor())]),\n",
       "             param_grid={'Regressor__metric': ['euclidean', 'manhattan',\n",
       "                                               'chebyshev'],\n",
       "                         'Regressor__n_neighbors': range(1, 20),\n",
       "                         'Regressor__weights': ['uniform', 'distance']},\n",
       "             scoring='neg_mean_squared_error')"
      ]
     },
     "execution_count": 106,
     "metadata": {},
     "output_type": "execute_result"
    }
   ],
   "source": [
    "# 定义参数网格\n",
    "param_grid = {\n",
    "    \"Regressor__n_neighbors\": range(1, 20),  # 例如，测试1到20的邻居数\n",
    "    \"Regressor__weights\": [\"uniform\", \"distance\"],  # 测试两种权重计算方式\n",
    "    \"Regressor__metric\": [\"euclidean\", \"manhattan\", \"chebyshev\"]  # 添加距离度量参数\n",
    "}\n",
    "\n",
    "# 使用GridSearchCV进行参数优化\n",
    "grid_search = GridSearchCV(model_pipeline, param_grid,cv=230,scoring=\"neg_mean_squared_error\")\n",
    "\n",
    "# 对训练数据进行拟合\n",
    "grid_search.fit(X_train, y_train)"
   ]
  },
  {
   "cell_type": "code",
   "execution_count": 107,
   "metadata": {},
   "outputs": [
    {
     "name": "stdout",
     "output_type": "stream",
     "text": [
      "Best parameters found: {'Regressor__metric': 'chebyshev', 'Regressor__n_neighbors': 13, 'Regressor__weights': 'uniform'}\n"
     ]
    }
   ],
   "source": [
    "print(\"Best parameters found:\", grid_search.best_params_)"
   ]
  },
  {
   "cell_type": "code",
   "execution_count": 108,
   "metadata": {},
   "outputs": [
    {
     "name": "stdout",
     "output_type": "stream",
     "text": [
      "Lowest RMSE found: 107.11345806857459\n"
     ]
    }
   ],
   "source": [
    "print(\"Lowest RMSE found:\", np.sqrt(-grid_search.best_score_))"
   ]
  }
 ],
 "metadata": {
  "kernelspec": {
   "display_name": "Python 3",
   "language": "python",
   "name": "python3"
  },
  "language_info": {
   "codemirror_mode": {
    "name": "ipython",
    "version": 3
   },
   "file_extension": ".py",
   "mimetype": "text/x-python",
   "name": "python",
   "nbconvert_exporter": "python",
   "pygments_lexer": "ipython3",
   "version": "3.10.5"
  }
 },
 "nbformat": 4,
 "nbformat_minor": 2
}
