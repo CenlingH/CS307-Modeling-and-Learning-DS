{
 "cells": [
  {
   "cell_type": "code",
   "execution_count": 22,
   "metadata": {},
   "outputs": [],
   "source": [
    "import pandas as pd\n",
    "from joblib import dump\n",
    "from sklearn.linear_model import Lasso, LassoCV\n",
    "from sklearn.model_selection import cross_val_score\n",
    "from sklearn.preprocessing import StandardScaler\n",
    "from sklearn.pipeline import make_pipeline\n",
    "import numpy as np\n",
    "\n",
    "# suppress warnings\n",
    "import warnings\n",
    "warnings.filterwarnings('ignore')"
   ]
  },
  {
   "cell_type": "code",
   "execution_count": 23,
   "metadata": {},
   "outputs": [],
   "source": [
    "genes_train = pd.read_csv(\"https://cs307.org/lab-05/data/genes-train.csv\")\n",
    "# create X and y for train\n",
    "X_train = genes_train.drop(\"y\", axis=1)\n",
    "y_train = genes_train[\"y\"]"
   ]
  },
  {
   "cell_type": "code",
   "execution_count": 26,
   "metadata": {},
   "outputs": [
    {
     "name": "stdout",
     "output_type": "stream",
     "text": [
      "Best alpha: 0.024201282647943835\n",
      "RMSE: 0.3100341658506522\n"
     ]
    }
   ],
   "source": [
    "lasso_pipeline = make_pipeline(StandardScaler(), Lasso(max_iter=10000))\n",
    "\n",
    "alphas = np.logspace(-6, 1, 100)\n",
    "\n",
    "lasso_cv = LassoCV(alphas=alphas, cv=200, max_iter=10000)\n",
    "\n",
    "lasso_cv.fit(X_train, y_train)\n",
    "\n",
    "print(f'Best alpha: {lasso_cv.alpha_}')\n",
    "\n",
    "rmse_scores = cross_val_score(lasso_pipeline.set_params(lasso__alpha=lasso_cv.alpha_), X_train, y_train,\n",
    "                              scoring='neg_root_mean_squared_error', cv=200)\n",
    "\n",
    "\n",
    "print(f'RMSE: {-np.mean(rmse_scores)}')"
   ]
  },
  {
   "cell_type": "code",
   "execution_count": 27,
   "metadata": {},
   "outputs": [
    {
     "data": {
      "text/plain": [
       "['gene-expression.joblib']"
      ]
     },
     "execution_count": 27,
     "metadata": {},
     "output_type": "execute_result"
    }
   ],
   "source": [
    "dump(lasso_cv, \"gene-expression.joblib\")"
   ]
  }
 ],
 "metadata": {
  "kernelspec": {
   "display_name": "Python 3",
   "language": "python",
   "name": "python3"
  },
  "language_info": {
   "codemirror_mode": {
    "name": "ipython",
    "version": 3
   },
   "file_extension": ".py",
   "mimetype": "text/x-python",
   "name": "python",
   "nbconvert_exporter": "python",
   "pygments_lexer": "ipython3",
   "version": "3.11.7"
  }
 },
 "nbformat": 4,
 "nbformat_minor": 2
}
