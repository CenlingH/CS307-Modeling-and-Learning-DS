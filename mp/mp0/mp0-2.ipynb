{
 "cells": [
  {
   "cell_type": "code",
   "execution_count": 2,
   "id": "international-juvenile",
   "metadata": {},
   "outputs": [],
   "source": [
    "import numpy as np\n",
    "y_true = np.array([1, 2, 3])\n",
    "y_pred = np.array([2, 3, 8])"
   ]
  },
  {
   "cell_type": "code",
   "execution_count": 3,
   "id": "veterinary-significance",
   "metadata": {},
   "outputs": [],
   "source": [
    "def rmse(y_true, y_pred):\n",
    "    return np.sqrt(np.mean((y_true-y_pred)**2))"
   ]
  },
  {
   "cell_type": "code",
   "execution_count": 5,
   "id": "mental-orleans",
   "metadata": {},
   "outputs": [],
   "source": [
    "def mae(y_true, y_pred):\n",
    "    return np.mean(abs(y_true-y_pred))"
   ]
  },
  {
   "cell_type": "code",
   "execution_count": 7,
   "id": "proof-petite",
   "metadata": {},
   "outputs": [],
   "source": [
    "def mape(y_true, y_pred):\n",
    "    return np.mean(abs(y_true-y_pred)/abs(y_true))"
   ]
  },
  {
   "cell_type": "code",
   "execution_count": 15,
   "id": "floral-bracket",
   "metadata": {},
   "outputs": [],
   "source": [
    "def r2(y_true, y_pred):\n",
    "    return 1-np.sum((y_true-y_pred)**2)/np.sum((y_true-np.mean(y_true))**2)"
   ]
  },
  {
   "cell_type": "code",
   "execution_count": 16,
   "id": "embedded-corrections",
   "metadata": {},
   "outputs": [],
   "source": [
    "def max_error(y_true, y_pred):\n",
    "    return max(abs(y_true-y_pred))"
   ]
  },
  {
   "cell_type": "code",
   "execution_count": null,
   "id": "plain-victim",
   "metadata": {},
   "outputs": [],
   "source": []
  },
  {
   "cell_type": "code",
   "execution_count": 17,
   "id": "white-november",
   "metadata": {},
   "outputs": [],
   "source": [
    "assert rmse(y_true, y_pred) == 3.0\n",
    "assert mae(y_true, y_pred) == 2.3333333333333335\n",
    "assert mape(y_true, y_pred) == 1.0555555555555556\n",
    "assert r2(y_true, y_pred) == -12.5\n",
    "assert max_error(y_true, y_pred) == 5.0"
   ]
  },
  {
   "cell_type": "code",
   "execution_count": null,
   "id": "purple-router",
   "metadata": {},
   "outputs": [],
   "source": []
  }
 ],
 "metadata": {
  "kernelspec": {
   "display_name": "Python 3",
   "language": "python",
   "name": "python3"
  },
  "language_info": {
   "codemirror_mode": {
    "name": "ipython",
    "version": 3
   },
   "file_extension": ".py",
   "mimetype": "text/x-python",
   "name": "python",
   "nbconvert_exporter": "python",
   "pygments_lexer": "ipython3",
   "version": "3.8.6"
  }
 },
 "nbformat": 4,
 "nbformat_minor": 5
}
