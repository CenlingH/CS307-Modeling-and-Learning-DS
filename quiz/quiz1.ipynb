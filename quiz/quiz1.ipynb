{
 "cells": [
  {
   "cell_type": "code",
   "execution_count": 55,
   "id": "mysterious-possible",
   "metadata": {},
   "outputs": [],
   "source": [
    "from scipy.stats import norm\n",
    "import numpy as np\n",
    "from sklearn.dummy import DummyRegressor\n",
    "from sklearn.impute import SimpleImputer"
   ]
  },
  {
   "cell_type": "markdown",
   "id": "neutral-settle",
   "metadata": {},
   "source": [
    "1. 一定注意把你要运行的都运行了，不要留下某个块没运行就出结果了\n",
    "2. hw1.2 supervise learning分两种，（1）classification: 一定要求题目说清楚了可能存在哪些子类，是香蕉还是苹果，如果之说categorize/group...没说子类就\n",
    "   都不是。（2）regression：就是预测个数值出来。\n",
    "3. hw1.4 Estimating the probability that an individual will develop lung cancer (or not) based on their height, weight, \n",
    "   and smoking history这个东西不是regression,是classification。也包括Estimating the success (or failure) probability\n",
    "4. hw1.6 KNN是 non-parametric method\n",
    "5. hw1.8 test Accuracy 是train和test的事\n",
    "6. hw1.9 再做一遍 P(A|B)*P(B)=P(A,B)\n",
    "7. hw1.12 注意题里给的是P(X=0.3,Y=0.6),求的是P(X=0.3|Y=0.6),用前者/P(Y=0.6)\n",
    "8. hw1.14 给了D=norm(loc=...,scale=...)之后，下一步是D.cdf(...), 不要再用norm.cdf了\n",
    "9. hw1.15 predict的时候记得代入得是数组[7.25], 其实就是一直出y的均值\n",
    "10. hw1.18 比如给出k=5, x=9.53，那就是8，9，10，11，12（是从10，9.53先四舍五入了开始延伸的！）\n",
    "11. hw2.2 比如给k=1,k=25，只能确定train RMSE的关系，=1的rmse更小，更flexible和variable（贴近原模型）\n",
    "12. hw2.5 k越小越贴近原模型\n",
    "13. hw2.6 impute是按均值  imputer=SimpleImputer(strategy='mean')\n",
    "                            imputer.fit(X)\n",
    "                            imputer.transform(X)\n",
    "14. hw2.9 先看第一列有什么内容，按字母顺序排，再看第二列的东西按字母排，横着可能一共会有五个量，然后是哪个就选哪里是1，其余填0\n",
    "15. hw2.11 MAE是mean不是max\n",
    "16. hw2.12 注意底下给定的预测类别\n",
    "17. hw3.3 variance, flexibility++; bias--; perform不知道的\n",
    "18. hw3.5/3.6 注意还有train RMSE是可以确定的\n",
    "19. hw3.13 记住SST和SSE的公式（sum square error）"
   ]
  },
  {
   "cell_type": "code",
   "execution_count": 21,
   "id": "public-green",
   "metadata": {},
   "outputs": [
    {
     "data": {
      "text/plain": [
       "0.3773531720729396"
      ]
     },
     "execution_count": 21,
     "metadata": {},
     "output_type": "execute_result"
    }
   ],
   "source": [
    "# 0.7\n",
    "D=norm(loc=8,scale=3.2)\n",
    "D.cdf(9.22)-D.cdf(6.05)"
   ]
  },
  {
   "cell_type": "code",
   "execution_count": 23,
   "id": "extended-hebrew",
   "metadata": {},
   "outputs": [
    {
     "data": {
      "text/plain": [
       "1.2292273996295395"
      ]
     },
     "execution_count": 23,
     "metadata": {},
     "output_type": "execute_result"
    }
   ],
   "source": [
    "# 0.8\n",
    "y_true = np.array([0.3, 4.1, 2. , 7.9, 6.2, 1.1, 2.3, 4.6, 3.5, 0.8])\n",
    "y_pred = np.array([1. , 2.8, 1.2, 8.2, 6.9, 2.7, 1.8, 3.7, 4. , 3.6])\n",
    "def RMSE(y_true, y_pred):\n",
    "    return np.sqrt(np.mean((y_true-y_pred)**2))\n",
    "RMSE(y_true, y_pred)"
   ]
  },
  {
   "cell_type": "code",
   "execution_count": 39,
   "id": "affiliated-huntington",
   "metadata": {},
   "outputs": [
    {
     "name": "stdout",
     "output_type": "stream",
     "text": [
      "0.9305633766666688 0.8686431189572694 0.1635430593276923\n"
     ]
    }
   ],
   "source": [
    "# 1.14\n",
    "D1=norm(loc=3.4+2.7*5.2,scale=0.5)\n",
    "p1=1-D1.cdf(16.7)\n",
    "D2=norm(loc=3.4+2.7*3.8,scale=0.5)\n",
    "p2=1-D2.cdf(13.1)\n",
    "D3=norm(loc=3.4+2.7*0.3,scale=0.5)\n",
    "p3=1-D3.cdf(4.7)\n",
    "print(p1,p2,p3)"
   ]
  },
  {
   "cell_type": "code",
   "execution_count": 46,
   "id": "anonymous-theta",
   "metadata": {},
   "outputs": [
    {
     "data": {
      "text/plain": [
       "12.35"
      ]
     },
     "execution_count": 46,
     "metadata": {},
     "output_type": "execute_result"
    }
   ],
   "source": [
    "# 1.15\n",
    "x = np.array([ 1,  2,  3,  4,  5,  6,  7,  8,  9, 10])\n",
    "y = np.array([ 5.1,  4.4,  8.2,  8.6, 10.7, 12.4, 16.5, 17.5, 19.6, 20.5])\n",
    "dummy=DummyRegressor()\n",
    "dummy.fit(x,y)\n",
    "dummy.predict([8.26])\n",
    "np.mean(y)"
   ]
  },
  {
   "cell_type": "code",
   "execution_count": 51,
   "id": "starting-pottery",
   "metadata": {},
   "outputs": [
    {
     "data": {
      "text/plain": [
       "11.73"
      ]
     },
     "execution_count": 51,
     "metadata": {},
     "output_type": "execute_result"
    }
   ],
   "source": [
    "# 1.17\n",
    "7.2*1.88+1.38\n",
    "x = np.array([ 1,  2,  3,  4,  5,  6,  7,  8,  9, 10])\n",
    "y = np.array([ 4.8,  4.4,  8.1,  8. ,  9.7, 12.3, 13.1, 16.3, 19.9, 20.7])\n",
    "np.mean(y[3:10])\n",
    "np.mean(y)"
   ]
  },
  {
   "cell_type": "code",
   "execution_count": 60,
   "id": "deluxe-absence",
   "metadata": {},
   "outputs": [
    {
     "data": {
      "text/plain": [
       "array([[0.64      , 8.31      ],\n",
       "       [1.55      , 6.69      ],\n",
       "       [1.53      , 6.58      ],\n",
       "       [0.36      , 5.69      ],\n",
       "       [1.88      , 7.34222222],\n",
       "       [0.35      , 7.11      ],\n",
       "       [2.83      , 7.41      ],\n",
       "       [2.3       , 8.6       ],\n",
       "       [0.36      , 8.46      ],\n",
       "       [3.5       , 7.23      ]])"
      ]
     },
     "execution_count": 60,
     "metadata": {},
     "output_type": "execute_result"
    }
   ],
   "source": [
    "# 2.6\n",
    "X = np.array([[0.64, 8.31],\n",
    "              [1.55, 6.69],\n",
    "              [ np.nan, 6.58],\n",
    "              [0.36, 5.69],\n",
    "              [1.88,  np.nan],\n",
    "              [0.35, 7.11],\n",
    "              [2.83, 7.41],\n",
    "              [2.3 , 8.6 ],\n",
    "              [0.36, 8.46],\n",
    "              [3.5 , 7.23]])\n",
    "np.mean(X,axis=0)\n",
    "imputer=SimpleImputer(strategy='mean')\n",
    "imputer.fit(X)\n",
    "imputer.transform(X)"
   ]
  },
  {
   "cell_type": "code",
   "execution_count": 62,
   "id": "headed-short",
   "metadata": {},
   "outputs": [
    {
     "data": {
      "text/plain": [
       "array([['dog', 'green'],\n",
       "       ['dog', 'green'],\n",
       "       ['bird', 'blue'],\n",
       "       ['dog', 'green'],\n",
       "       ['bird', 'red'],\n",
       "       ['bird', 'green'],\n",
       "       ['bird', 'green'],\n",
       "       ['bird', 'red'],\n",
       "       ['cat', 'blue'],\n",
       "       ['cat', 'green'],\n",
       "       ['bird', 'red'],\n",
       "       ['bird', 'green']], dtype=object)"
      ]
     },
     "execution_count": 62,
     "metadata": {},
     "output_type": "execute_result"
    }
   ],
   "source": [
    "# 2.7\n",
    "X = np.array([['dog', 'green'],\n",
    "              ['dog', 'green'],\n",
    "              ['bird', 'blue'],\n",
    "              ['dog', 'green'],\n",
    "              ['bird', 'red'],\n",
    "              ['bird', 'green'],\n",
    "              ['bird', np.nan],\n",
    "              ['bird', 'red'],\n",
    "              ['cat', 'blue'],\n",
    "              ['cat', 'green'],\n",
    "              [np.nan, 'red'],\n",
    "              ['bird', 'green']], dtype=object)\n",
    "imputer2=SimpleImputer(strategy=\"most_frequent\")\n",
    "imputer2.fit(X)\n",
    "imputer2.transform(X)"
   ]
  },
  {
   "cell_type": "code",
   "execution_count": 69,
   "id": "optical-carroll",
   "metadata": {},
   "outputs": [
    {
     "data": {
      "text/plain": [
       "array([1., 1.])"
      ]
     },
     "execution_count": 69,
     "metadata": {},
     "output_type": "execute_result"
    }
   ],
   "source": [
    "# 2.8\n",
    "X = np.array([[ 9.6, 51.1],\n",
    "              [ 5.1, 37.1],\n",
    "              [ 3.5, 86.4],\n",
    "              [ 1.6, 46.9],\n",
    "              [ 3.1, 64.4],\n",
    "              [ 0.1, 76.1],\n",
    "              [ 1.5, 77.8],\n",
    "              [ 8.2, 38.6],\n",
    "              [ 1. ,  6.4],\n",
    "              [ 8. , 87.4]])\n",
    "meanx=np.mean(X,axis=0)\n",
    "stdx=np.std(X,axis=0)\n",
    "newx=(X-meanx)/stdx\n",
    "np.std(newx,axis=0)"
   ]
  },
  {
   "cell_type": "code",
   "execution_count": 73,
   "id": "returning-bangkok",
   "metadata": {},
   "outputs": [
    {
     "data": {
      "text/plain": [
       "0.5270000000000007"
      ]
     },
     "execution_count": 73,
     "metadata": {},
     "output_type": "execute_result"
    }
   ],
   "source": [
    "# 2.11\n",
    "y=np.array([5.34,4.72,5.99,4.81,5.6])\n",
    "max0=[]\n",
    "for i in range(5):\n",
    "    mean0=abs((np.sum(y)-y[i])/4-y[i])\n",
    "    max0.append(mean0)\n",
    "np.mean(max0)"
   ]
  },
  {
   "cell_type": "code",
   "execution_count": 75,
   "id": "cheap-jerusalem",
   "metadata": {},
   "outputs": [
    {
     "data": {
      "text/plain": [
       "64411.32400000001"
      ]
     },
     "execution_count": 75,
     "metadata": {},
     "output_type": "execute_result"
    }
   ],
   "source": [
    "# 3.13\n",
    "X = np.array([[4.64, 5.53, 4.56, 5.56],\n",
    "              [3.52, 5.76, 4.17, 4.64],\n",
    "              [5.65, 6.72, 4.98, 3.7 ],\n",
    "              [3.35, 7.26, 3.08, 4.64],\n",
    "              [4.38, 3.85, 3.76, 3.79],\n",
    "              [5.69, 4.09, 5.51, 5.33],\n",
    "              [5.32, 5.03, 5.76, 4.28],\n",
    "              [3.92, 5.17, 5.24, 5.59],\n",
    "              [5.23, 5.76, 5.54, 5.52],\n",
    "              [5.78, 4.79, 6.64, 4.47]])\n",
    "y = np.array([0.9, -108.2, 104.1, -68.5, -149.8, 30.6, 23., -65.6, 73.5, 66.6])\n",
    "SST=np.sum((y-np.mean(y))**2)\n",
    "SST"
   ]
  },
  {
   "cell_type": "code",
   "execution_count": 83,
   "id": "metric-outreach",
   "metadata": {},
   "outputs": [
    {
     "data": {
      "text/plain": [
       "52189.308"
      ]
     },
     "execution_count": 83,
     "metadata": {},
     "output_type": "execute_result"
    }
   ],
   "source": [
    "# 3.13\n",
    "y1_left=y[X[:,2]<=5]\n",
    "SSE1_left=np.sum((y1_left-np.mean(y1_left))**2)\n",
    "y1_right=y[X[:,2]>5]\n",
    "SSE1_right=np.sum((y1_right-np.mean(y1_right))**2)\n",
    "SSE1_left+SSE1_right"
   ]
  },
  {
   "cell_type": "code",
   "execution_count": 94,
   "id": "lonely-certificate",
   "metadata": {},
   "outputs": [
    {
     "name": "stdout",
     "output_type": "stream",
     "text": [
      "[0.5        0.33333333 0.16666667] [0.66666667 0.16666667 0.16666667] [0.58333333 0.25       0.16666667]\n",
      "1.384431504340598 1.4591479170272448 1.2516291673878228\n"
     ]
    },
    {
     "data": {
      "text/plain": [
       "1.3553885422075338"
      ]
     },
     "execution_count": 94,
     "metadata": {},
     "output_type": "execute_result"
    }
   ],
   "source": [
    "# 3.14\n",
    "def p(y):\n",
    "    counts = np.array([np.sum(y == i) for i in np.unique(y)])\n",
    "    return counts / len(y)\n",
    "x = np.array([0.5, 1.6, 1.7, 1.7, 2.4, 3.3, 7.7, 7.8, 8.2, 9.2, 9.7, 10.])\n",
    "y = np.array([2, 1, 0, 1, 0, 0, 1, 0, 0, 2, 0, 0])\n",
    "yl=y[x<=4.6]\n",
    "yr=y[x>4.6]\n",
    "print(p(yl),p(yr),p(y))\n",
    "groot=-np.sum(p(y)*np.log2(p(y)))\n",
    "gl=-np.sum(p(yl)*np.log2(p(yl)))\n",
    "gr=-np.sum(p(yr)*np.log2(p(yr)))\n",
    "print(groot,gl,gr)\n",
    "len(yl)/len(y)*gl+len(yr)/len(y)*gr"
   ]
  },
  {
   "cell_type": "code",
   "execution_count": null,
   "id": "conceptual-press",
   "metadata": {},
   "outputs": [],
   "source": []
  }
 ],
 "metadata": {
  "kernelspec": {
   "display_name": "Python 3",
   "language": "python",
   "name": "python3"
  },
  "language_info": {
   "codemirror_mode": {
    "name": "ipython",
    "version": 3
   },
   "file_extension": ".py",
   "mimetype": "text/x-python",
   "name": "python",
   "nbconvert_exporter": "python",
   "pygments_lexer": "ipython3",
   "version": "3.8.6"
  }
 },
 "nbformat": 4,
 "nbformat_minor": 5
}
