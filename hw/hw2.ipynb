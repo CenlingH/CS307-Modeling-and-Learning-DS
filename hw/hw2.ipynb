{
 "cells": [
  {
   "cell_type": "markdown",
   "metadata": {},
   "source": [
    "# Homework 02"
   ]
  },
  {
   "cell_type": "code",
   "execution_count": 30,
   "metadata": {},
   "outputs": [],
   "source": [
    "import numpy as np\n",
    "from sklearn.impute import SimpleImputer\n",
    "from sklearn.preprocessing import OneHotEncoder\n",
    "from sklearn.neighbors import KNeighborsRegressor"
   ]
  },
  {
   "cell_type": "code",
   "execution_count": 3,
   "metadata": {},
   "outputs": [],
   "source": [
    "X = np.array([[ 2.42,  9.91],\n",
    "              [  np.nan, 12.51],\n",
    "              [ 2.36, 12.42],\n",
    "              [ 2.51, 12.76],\n",
    "              [ 2.6 , 13.89],\n",
    "              [ 2.74,  8.5 ],\n",
    "              [ 2.9 ,   np.nan],\n",
    "              [ 2.79,  9.88],\n",
    "              [ 2.92, 11.67],\n",
    "              [ 2.53,  8.77]])"
   ]
  },
  {
   "cell_type": "code",
   "execution_count": 5,
   "metadata": {},
   "outputs": [
    {
     "data": {
      "text/plain": [
       "array([[ 2.42      ,  9.91      ],\n",
       "       [ 2.64111111, 12.51      ],\n",
       "       [ 2.36      , 12.42      ],\n",
       "       [ 2.51      , 12.76      ],\n",
       "       [ 2.6       , 13.89      ],\n",
       "       [ 2.74      ,  8.5       ],\n",
       "       [ 2.9       , 11.14555556],\n",
       "       [ 2.79      ,  9.88      ],\n",
       "       [ 2.92      , 11.67      ],\n",
       "       [ 2.53      ,  8.77      ]])"
      ]
     },
     "execution_count": 5,
     "metadata": {},
     "output_type": "execute_result"
    }
   ],
   "source": [
    "impute_arr=SimpleImputer(strategy=\"mean\")\n",
    "impute_arr.fit(X)\n",
    "impute_arr.transform(X)"
   ]
  },
  {
   "cell_type": "code",
   "execution_count": 9,
   "metadata": {},
   "outputs": [],
   "source": [
    "X = np.array([['bird', 'blue'],\n",
    "              [np.nan, 'blue'],\n",
    "              ['bird', 'green'],\n",
    "              ['dog', 'blue'],\n",
    "              ['dog', 'red'],\n",
    "              ['bird', 'red'],\n",
    "              ['dog', 'blue'],\n",
    "              ['dog', np.nan],\n",
    "              ['bird', 'green'],\n",
    "              ['dog', 'red'],\n",
    "              ['bird', 'green'],\n",
    "              ['bird', 'blue']], dtype=object)"
   ]
  },
  {
   "cell_type": "code",
   "execution_count": 10,
   "metadata": {},
   "outputs": [
    {
     "data": {
      "text/plain": [
       "array([['bird', 'blue'],\n",
       "       ['bird', 'blue'],\n",
       "       ['bird', 'green'],\n",
       "       ['dog', 'blue'],\n",
       "       ['dog', 'red'],\n",
       "       ['bird', 'red'],\n",
       "       ['dog', 'blue'],\n",
       "       ['dog', 'blue'],\n",
       "       ['bird', 'green'],\n",
       "       ['dog', 'red'],\n",
       "       ['bird', 'green'],\n",
       "       ['bird', 'blue']], dtype=object)"
      ]
     },
     "execution_count": 10,
     "metadata": {},
     "output_type": "execute_result"
    }
   ],
   "source": [
    "impute_arr=SimpleImputer(strategy=\"most_frequent\")\n",
    "impute_arr.fit(X)\n",
    "impute_arr.transform(X)"
   ]
  },
  {
   "cell_type": "code",
   "execution_count": 19,
   "metadata": {},
   "outputs": [],
   "source": [
    "X = np.array([[ 1.2, 10.6],\n",
    "              [ 0.9, 55.8],\n",
    "              [ 6.3, 34.3],\n",
    "              [ 5.1, 77.1],\n",
    "              [ 5.9, 20.9],\n",
    "              [ 4.8, 77.6],\n",
    "              [ 7.7, 80.7],\n",
    "              [ 0.5, 65.4],\n",
    "              [ 6.3,  9.2],\n",
    "              [ 8.6, 17.8]])"
   ]
  },
  {
   "cell_type": "code",
   "execution_count": 20,
   "metadata": {},
   "outputs": [
    {
     "data": {
      "text/plain": [
       "array([ 4.73, 44.94])"
      ]
     },
     "execution_count": 20,
     "metadata": {},
     "output_type": "execute_result"
    }
   ],
   "source": [
    "mean_before=np.mean(X,axis=0) # axis=0是按照不同的维度操作，即X有两维，左右列分别求均值\n",
    "mean_before"
   ]
  },
  {
   "cell_type": "code",
   "execution_count": 21,
   "metadata": {},
   "outputs": [
    {
     "data": {
      "text/plain": [
       "array([ 2.74337384, 27.92948979])"
      ]
     },
     "execution_count": 21,
     "metadata": {},
     "output_type": "execute_result"
    }
   ],
   "source": [
    "std_before=np.std(X,axis=0)\n",
    "std_before"
   ]
  },
  {
   "cell_type": "code",
   "execution_count": 22,
   "metadata": {},
   "outputs": [
    {
     "data": {
      "text/plain": [
       "array([[-1.28673677, -1.22952479],\n",
       "       [-1.39609117,  0.38883632],\n",
       "       [ 0.57228803, -0.38095934],\n",
       "       [ 0.13487043,  1.15147109],\n",
       "       [ 0.42648216, -0.86073896],\n",
       "       [ 0.02551603,  1.16937331],\n",
       "       [ 1.08260856,  1.28036711],\n",
       "       [-1.54189704,  0.73255903],\n",
       "       [ 0.57228803, -1.27965102],\n",
       "       [ 1.41067176, -0.97173275]])"
      ]
     },
     "execution_count": 22,
     "metadata": {},
     "output_type": "execute_result"
    }
   ],
   "source": [
    "X_after=(X-mean_before)/std_before\n",
    "X_after"
   ]
  },
  {
   "cell_type": "code",
   "execution_count": 23,
   "metadata": {},
   "outputs": [
    {
     "data": {
      "text/plain": [
       "array([1.55431223e-16, 4.44089210e-17])"
      ]
     },
     "execution_count": 23,
     "metadata": {},
     "output_type": "execute_result"
    }
   ],
   "source": [
    "np.mean(X_after, axis=0)"
   ]
  },
  {
   "cell_type": "code",
   "execution_count": 24,
   "metadata": {},
   "outputs": [
    {
     "data": {
      "text/plain": [
       "array([1., 1.])"
      ]
     },
     "execution_count": 24,
     "metadata": {},
     "output_type": "execute_result"
    }
   ],
   "source": [
    "np.std(X_after,axis=0)"
   ]
  },
  {
   "cell_type": "code",
   "execution_count": 26,
   "metadata": {},
   "outputs": [],
   "source": [
    "data = np.array([           # 注意下这个东西怎么写，两个[], 用np.array\n",
    "    ['democrat', 'michigan'],\n",
    "    ['democrat', 'wisconsin'],\n",
    "    ['republican', 'wisconsin'],\n",
    "    ['democrat', 'illinois'],\n",
    "    ['republican', 'michigan'],\n",
    "    ['republican', 'illinois']\n",
    "])"
   ]
  },
  {
   "cell_type": "code",
   "execution_count": 29,
   "metadata": {},
   "outputs": [
    {
     "data": {
      "text/plain": [
       "array([[1., 0., 0., 1., 0.],\n",
       "       [1., 0., 0., 0., 1.],\n",
       "       [0., 1., 0., 0., 1.],\n",
       "       [1., 0., 1., 0., 0.],\n",
       "       [0., 1., 0., 1., 0.],\n",
       "       [0., 1., 1., 0., 0.]])"
      ]
     },
     "execution_count": 29,
     "metadata": {},
     "output_type": "execute_result"
    }
   ],
   "source": [
    "one_hot=OneHotEncoder()\n",
    "one_hot.fit(data)\n",
    "one_hot.fit_transform(data).toarray()"
   ]
  },
  {
   "cell_type": "code",
   "execution_count": 33,
   "metadata": {},
   "outputs": [
    {
     "data": {
      "text/plain": [
       "KNeighborsRegressor(n_neighbors=4)"
      ]
     },
     "execution_count": 33,
     "metadata": {},
     "output_type": "execute_result"
    }
   ],
   "source": [
    "knn04=KNeighborsRegressor(4)\n",
    "X=np.array([[0.49,0.07],[0.35,0.12],[0.08,0.82],[0.20,0.94],[0.26,0.50]])\n",
    "y=np.array([3.26,3.25,4.68,4.95,3.71])\n",
    "knn04.fit(X,y)"
   ]
  },
  {
   "cell_type": "code",
   "execution_count": 44,
   "metadata": {},
   "outputs": [
    {
     "data": {
      "text/plain": [
       "0.8659999999999999"
      ]
     },
     "execution_count": 44,
     "metadata": {},
     "output_type": "execute_result"
    }
   ],
   "source": [
    "y=np.array([5.21,4.69,3.92,5.00,6.75])\n",
    "#y=np.array([2.83,4.60,2.73,3.63,2.79])\n",
    "s=np.sum(y)\n",
    "ans=[]\n",
    "for i in range(5):\n",
    "    ans.append(abs((s-y[i])/4-y[i]))\n",
    "np.mean(ans)"
   ]
  },
  {
   "cell_type": "code",
   "execution_count": null,
   "metadata": {},
   "outputs": [],
   "source": []
  }
 ],
 "metadata": {
  "kernelspec": {
   "display_name": "Python 3",
   "language": "python",
   "name": "python3"
  },
  "language_info": {
   "codemirror_mode": {
    "name": "ipython",
    "version": 3
   },
   "file_extension": ".py",
   "mimetype": "text/x-python",
   "name": "python",
   "nbconvert_exporter": "python",
   "pygments_lexer": "ipython3",
   "version": "3.8.6"
  }
 },
 "nbformat": 4,
 "nbformat_minor": 4
}
