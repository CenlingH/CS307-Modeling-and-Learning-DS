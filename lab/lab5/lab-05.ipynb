{
 "cells": [
  {
   "cell_type": "code",
   "execution_count": 1,
   "metadata": {},
   "outputs": [
    {
     "name": "stderr",
     "output_type": "stream",
     "text": [
      "C:\\Users\\86188\\AppData\\Local\\Temp\\ipykernel_34656\\1346217225.py:1: DeprecationWarning: \n",
      "Pyarrow will become a required dependency of pandas in the next major release of pandas (pandas 3.0),\n",
      "(to allow more performant data types, such as the Arrow string type, and better interoperability with other libraries)\n",
      "but was not found to be installed on your system.\n",
      "If this would cause problems for you,\n",
      "please provide us feedback at https://github.com/pandas-dev/pandas/issues/54466\n",
      "        \n",
      "  import pandas as pd\n"
     ]
    }
   ],
   "source": [
    "import pandas as pd\n",
    "from joblib import dump\n",
    "from sklearn.linear_model import Lasso, LassoCV\n",
    "from sklearn.model_selection import cross_val_score\n",
    "from sklearn.preprocessing import StandardScaler\n",
    "from sklearn.pipeline import make_pipeline\n",
    "import numpy as np\n"
   ]
  },
  {
   "cell_type": "code",
   "execution_count": 2,
   "metadata": {},
   "outputs": [],
   "source": [
    "genes_train = pd.read_csv(\"https://cs307.org/lab-05/data/genes-train.csv\")\n",
    "# create X and y for train\n",
    "X_train = genes_train.drop(\"y\", axis=1)\n",
    "y_train = genes_train[\"y\"]"
   ]
  },
  {
   "cell_type": "code",
   "execution_count": 3,
   "metadata": {},
   "outputs": [
    {
     "name": "stdout",
     "output_type": "stream",
     "text": [
      "Fitting 5 folds for each of 200 candidates, totalling 1000 fits\n",
      "Best parameters: {'lasso__alpha': 0.01788649529057435, 'poly__degree': 1}\n",
      "Best RMSE: 0.32235601585695545\n"
     ]
    }
   ],
   "source": [
    "from sklearn.pipeline import Pipeline\n",
    "from sklearn.preprocessing import StandardScaler, PolynomialFeatures\n",
    "from sklearn.linear_model import Lasso\n",
    "from sklearn.model_selection import GridSearchCV\n",
    "import numpy as np\n",
    "\n",
    "# 定义包含特征工程步骤和Lasso回归的管道\n",
    "pipeline = Pipeline([\n",
    "    ('scaler', StandardScaler()),  # 数据标准化\n",
    "    ('poly', PolynomialFeatures()),  # 生成多项式特征\n",
    "    ('lasso', Lasso(max_iter=10000))  # Lasso回归\n",
    "])\n",
    "\n",
    "# 设置参数网格，包括Lasso的alpha参数和多项式特征的度数\n",
    "param_grid = {\n",
    "    'poly__degree': [1, 2],  # 尝试1阶、2阶和3阶多项式特征\n",
    "    'lasso__alpha': np.logspace(-3, 1, 100),  # Lasso的alpha参数范围\n",
    "    # 可以根据需要添加其他参数\n",
    "}\n",
    "\n",
    "# 创建GridSearchCV实例\n",
    "grid_search = GridSearchCV(pipeline, param_grid, cv=5, scoring='neg_mean_squared_error', verbose=1)\n",
    "\n",
    "# 在训练数据上执行网格搜索\n",
    "grid_search.fit(X_train, y_train)\n",
    "\n",
    "# 获取最佳参数和对应的性能指标\n",
    "best_params = grid_search.best_params_\n",
    "best_score = grid_search.best_score_\n",
    "\n",
    "# 输出最佳参数\n",
    "print(f\"Best parameters: {best_params}\")\n",
    "\n",
    "# 输出最佳模型的RMSE\n",
    "best_rmse = np.sqrt(-best_score)\n",
    "print(f\"Best RMSE: {best_rmse}\")\n"
   ]
  },
  {
   "cell_type": "code",
   "execution_count": 4,
   "metadata": {},
   "outputs": [
    {
     "data": {
      "text/plain": [
       "['gene-expression.joblib']"
      ]
     },
     "execution_count": 4,
     "metadata": {},
     "output_type": "execute_result"
    }
   ],
   "source": [
    "dump(grid_search, \"gene-expression.joblib\")"
   ]
  }
 ],
 "metadata": {
  "kernelspec": {
   "display_name": "Python 3",
   "language": "python",
   "name": "python3"
  },
  "language_info": {
   "codemirror_mode": {
    "name": "ipython",
    "version": 3
   },
   "file_extension": ".py",
   "mimetype": "text/x-python",
   "name": "python",
   "nbconvert_exporter": "python",
   "pygments_lexer": "ipython3",
   "version": "3.11.7"
  }
 },
 "nbformat": 4,
 "nbformat_minor": 2
}
