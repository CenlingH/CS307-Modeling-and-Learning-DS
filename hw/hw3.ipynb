{
 "cells": [
  {
   "cell_type": "markdown",
   "metadata": {},
   "source": [
    "# Homework 03"
   ]
  },
  {
   "cell_type": "code",
   "execution_count": 2,
   "metadata": {},
   "outputs": [],
   "source": [
    "import numpy as np"
   ]
  },
  {
   "cell_type": "code",
   "execution_count": 3,
   "metadata": {},
   "outputs": [
    {
     "name": "stdout",
     "output_type": "stream",
     "text": [
      "0.022222222222222223 0.4444444444444444 0.5333333333333333\n"
     ]
    }
   ],
   "source": [
    "# 3.9\n",
    "p1=1/(1+20+24)\n",
    "p2=20/(1+20+24)\n",
    "p3=24/45\n",
    "print(p1,p2,p3)"
   ]
  },
  {
   "cell_type": "code",
   "execution_count": 31,
   "metadata": {},
   "outputs": [
    {
     "data": {
      "text/plain": [
       "139535.21600000001"
      ]
     },
     "execution_count": 31,
     "metadata": {},
     "output_type": "execute_result"
    }
   ],
   "source": [
    "# 3.13\n",
    "X = np.array([[5.05, 5.02, 5.21, 4.77],\n",
    "              [4.8 , 5.19, 6.14, 5.25],\n",
    "              [5.76, 5.5 , 5.68, 5.21],\n",
    "              [6.3 , 4.86, 4.58, 5.79],\n",
    "              [4.22, 4.51, 4.24, 6.96],\n",
    "              [5.24, 4.78, 5.07, 4.62],\n",
    "              [4.79, 8.2 , 5.78, 5.25],\n",
    "              [3.84, 6.03, 5.86, 5.62],\n",
    "              [6.33, 4.2 , 4.65, 3.29],\n",
    "              [3.3 , 3.26, 4.42, 6.72]])\n",
    "y = np.array([-4., 38., 128.9, 133.6, -1.9, -18.6, 270.8, 42., -64.8, -187.8])\n",
    "\n",
    "SST=np.sum((y-np.mean(y))**2) # 平方一定不是^, 是**\n",
    "SST"
   ]
  },
  {
   "cell_type": "code",
   "execution_count": 32,
   "metadata": {},
   "outputs": [
    {
     "name": "stdout",
     "output_type": "stream",
     "text": [
      "[-1.9, 42.0, -187.8]\n"
     ]
    }
   ],
   "source": [
    "# 3.13  mine\n",
    "# x3<=5.7 tree1\n",
    "# x4<=3.8 tree2\n",
    "y_pred_left_3=[]\n",
    "y_pred_right_3=[]\n",
    "for i in range(len(X)):\n",
    "    if X[i][0]<=4.7:\n",
    "        y_pred_left_3.append(y[i])\n",
    "    y_pred_right_3.append(y[i])\n",
    "        \n",
    "print(y_pred_left_3)"
   ]
  },
  {
   "cell_type": "code",
   "execution_count": null,
   "metadata": {},
   "outputs": [],
   "source": [
    "x = np.array([1, 2, 3, 4])\n",
    "y = np.array([6, 7, 8, 9])\n",
    "np.mean(y[x <= 3.2])  # 一个参考"
   ]
  },
  {
   "cell_type": "code",
   "execution_count": 41,
   "metadata": {},
   "outputs": [
    {
     "name": "stdout",
     "output_type": "stream",
     "text": [
      "110115.18095238096 127803.57714285716\n"
     ]
    }
   ],
   "source": [
    "# 3.13 正确答案\n",
    "tree1_left=y[X[:,0]<=4.7]\n",
    "tree1_right=y[X[:,0]>4.7]\n",
    "left_mean=np.mean(tree1_left)\n",
    "right_mean=np.mean(tree1_right)\n",
    "SSE1=np.sum((tree1_left-left_mean)**2)+ np.sum((tree1_right-right_mean)**2)\n",
    "\n",
    "tree2_left=y[X[:,3]<=5.7]\n",
    "tree2_right=y[X[:,3]>5.7]\n",
    "left_mean2=np.mean(tree2_left)\n",
    "right_mean2=np.mean(tree2_right)\n",
    "SSE2=np.sum((tree2_left-left_mean2)**2)+ np.sum((tree2_right-right_mean2)**2)\n",
    "\n",
    "print(SSE1, SSE2)"
   ]
  },
  {
   "cell_type": "code",
   "execution_count": 43,
   "metadata": {},
   "outputs": [
    {
     "data": {
      "text/plain": [
       "0.6527777777777778"
      ]
     },
     "execution_count": 43,
     "metadata": {},
     "output_type": "execute_result"
    }
   ],
   "source": [
    "# 3.14 \n",
    "x = np.array([0.7, 1.1, 3.5, 4.9, 5.7, 6.6, 8.5, 8.6, 8.7, 9.4, 9.6, 9.9])\n",
    "y = np.array([2, 1, 0, 1, 1, 1, 2, 0, 0, 1, 0, 2])\n",
    "def get_proportions(y):\n",
    "    counts = np.array([np.sum(y == i) for i in np.unique(y)])\n",
    "    return counts / len(y)\n",
    "1-np.sum(get_proportions(y)**2) # root gini"
   ]
  },
  {
   "cell_type": "code",
   "execution_count": 49,
   "metadata": {},
   "outputs": [],
   "source": [
    "yl=y[x<=8.3]\n",
    "yr=y[x>8.3]\n",
    "left_gini=1-np.sum(get_proportions(yl)**2) # left gini"
   ]
  },
  {
   "cell_type": "code",
   "execution_count": 50,
   "metadata": {},
   "outputs": [],
   "source": [
    "right_gini=1-np.sum(get_proportions(yr)**2)"
   ]
  },
  {
   "cell_type": "code",
   "execution_count": 51,
   "metadata": {},
   "outputs": [
    {
     "data": {
      "text/plain": [
       "0.5555555555555556"
      ]
     },
     "execution_count": 51,
     "metadata": {},
     "output_type": "execute_result"
    }
   ],
   "source": [
    "len(yl)/len(y)*left_gini+len(yr)/len(y)*right_gini"
   ]
  },
  {
   "cell_type": "code",
   "execution_count": 64,
   "metadata": {},
   "outputs": [],
   "source": [
    "# 3.15\n",
    "x = np.array([0.2, 1., 1., 1.4, 1.5, 2.6, 6.4, 6.7, 7., 7.1, 7.7, 8.5])\n",
    "y = np.array([2, 1, 0, 1, 1, 1, 1, 0, 0, 2, 0, 0])"
   ]
  },
  {
   "cell_type": "code",
   "execution_count": 65,
   "metadata": {},
   "outputs": [
    {
     "data": {
      "text/plain": [
       "1.4833557549816874"
      ]
     },
     "execution_count": 65,
     "metadata": {},
     "output_type": "execute_result"
    }
   ],
   "source": [
    "# root entropy\n",
    "-np.sum(get_proportions(y)*np.log2(get_proportions(y)))             # 这里的log求的是e为底，要用np.log2"
   ]
  },
  {
   "cell_type": "code",
   "execution_count": 66,
   "metadata": {},
   "outputs": [
    {
     "name": "stdout",
     "output_type": "stream",
     "text": [
      "1.2516291673878228 1.2516291673878228 1.2516291673878228\n"
     ]
    }
   ],
   "source": [
    "# left e\n",
    "yl=y[x<=5.8]\n",
    "yr=y[x>5.8]\n",
    "le=-np.sum(get_proportions(yl)*np.log2(get_proportions(yl)))\n",
    "re=-np.sum(get_proportions(yr)*np.log2(get_proportions(yr)))\n",
    "te=len(yl)/len(y)*le+len(yr)/len(y)*re\n",
    "print(le,re,te)"
   ]
  },
  {
   "cell_type": "code",
   "execution_count": null,
   "metadata": {},
   "outputs": [],
   "source": []
  }
 ],
 "metadata": {
  "kernelspec": {
   "display_name": "Python 3",
   "language": "python",
   "name": "python3"
  },
  "language_info": {
   "codemirror_mode": {
    "name": "ipython",
    "version": 3
   },
   "file_extension": ".py",
   "mimetype": "text/x-python",
   "name": "python",
   "nbconvert_exporter": "python",
   "pygments_lexer": "ipython3",
   "version": "3.8.6"
  }
 },
 "nbformat": 4,
 "nbformat_minor": 4
}
