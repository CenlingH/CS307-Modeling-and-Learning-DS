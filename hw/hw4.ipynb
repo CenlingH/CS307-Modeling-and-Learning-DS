{
 "cells": [
  {
   "cell_type": "markdown",
   "metadata": {},
   "source": [
    "# Homework 04"
   ]
  },
  {
   "cell_type": "code",
   "execution_count": 9,
   "metadata": {},
   "outputs": [],
   "source": [
    "import numpy as np\n",
    "import scipy.stats as stats"
   ]
  },
  {
   "cell_type": "code",
   "execution_count": 1,
   "metadata": {},
   "outputs": [],
   "source": [
    "# 4.6\n",
    "from sklearn.linear_model import LogisticRegression\n",
    "#?LogisticRegression"
   ]
  },
  {
   "cell_type": "code",
   "execution_count": 7,
   "metadata": {},
   "outputs": [
    {
     "data": {
      "text/plain": [
       "0.0439453125"
      ]
     },
     "execution_count": 7,
     "metadata": {},
     "output_type": "execute_result"
    }
   ],
   "source": [
    "# 4.7\n",
    "45*0.5**10"
   ]
  },
  {
   "cell_type": "code",
   "execution_count": 10,
   "metadata": {},
   "outputs": [
    {
     "data": {
      "text/plain": [
       "array([[ 1.  ,  1.7 ,  3.2 ,  2.89,  5.44, 10.24],\n",
       "       [ 1.  ,  1.6 ,  3.7 ,  2.56,  5.92, 13.69],\n",
       "       [ 1.  ,  1.7 ,  3.6 ,  2.89,  6.12, 12.96],\n",
       "       [ 1.  ,  1.7 ,  3.3 ,  2.89,  5.61, 10.89],\n",
       "       [ 1.  ,  1.9 ,  4.  ,  3.61,  7.6 , 16.  ]])"
      ]
     },
     "execution_count": 10,
     "metadata": {},
     "output_type": "execute_result"
    }
   ],
   "source": [
    "# 4.8\n",
    "x1 = np.array([1.7, 1.6, 1.7, 1.7, 1.9])\n",
    "x2 = np.array([3.2, 3.7, 3.6, 3.3, 4.0])\n",
    "\n",
    "n = x1.shape[0] #获取x1的长度\n",
    "\n",
    "X = np.column_stack((np.ones(n), x1, x2, x1**2, x1*x2, x2**2)) \n",
    "# 用于把里面的东西合并为二维数组\n",
    "X"
   ]
  },
  {
   "cell_type": "code",
   "execution_count": 11,
   "metadata": {},
   "outputs": [
    {
     "data": {
      "text/plain": [
       "0.7399436915513672"
      ]
     },
     "execution_count": 11,
     "metadata": {},
     "output_type": "execute_result"
    }
   ],
   "source": [
    "# 4.9\n",
    "x1 = np.array([1.4, 1., 1.4, 1.6, 1.4, 1.2, 1.5, 1.3, 1.2, 1.9, 1.5, 1.7])\n",
    "x2 = np.array([3.4, 3.3, 3.2, 3.9, 3.3, 3.5, 3.1, 3.2, 4., 3.8, 3.9, 3.8])\n",
    "y = np.array([27., 23.9, 26.4, 29.9, 26.7, 25.9, 26.8, 25.7, 27.4, 31.7, 29.2, 30.3])\n",
    "\n",
    "def RMSE(y_true, y_pred):\n",
    "    return np.sqrt(np.mean((y_true-y_pred)**2))\n",
    "y_pred=8.8+6*x1+2.7*x2\n",
    "RMSE(y, y_pred)"
   ]
  },
  {
   "cell_type": "code",
   "execution_count": 17,
   "metadata": {},
   "outputs": [
    {
     "data": {
      "text/plain": [
       "8.999778806692204"
      ]
     },
     "execution_count": 17,
     "metadata": {},
     "output_type": "execute_result"
    }
   ],
   "source": [
    "# 4.10\n",
    "import math\n",
    "math.e**(2.73-3.44*(0.87)-4.1*(-0.6))"
   ]
  },
  {
   "cell_type": "code",
   "execution_count": 27,
   "metadata": {},
   "outputs": [
    {
     "data": {
      "text/plain": [
       "0.00270808980045556"
      ]
     },
     "execution_count": 27,
     "metadata": {},
     "output_type": "execute_result"
    }
   ],
   "source": [
    "# 4.11\n",
    "odds=math.e**(3.75+3.15*(0.68)+0.02*(0.84))\n",
    "# p=odds/(1+odds)\n",
    "1-odds/(1+odds)"
   ]
  },
  {
   "cell_type": "code",
   "execution_count": 42,
   "metadata": {},
   "outputs": [
    {
     "data": {
      "text/plain": [
       "0.8566666666666667"
      ]
     },
     "execution_count": 42,
     "metadata": {},
     "output_type": "execute_result"
    }
   ],
   "source": [
    "# 4.13\n",
    "(2.03+1.51*(-0.17))/2.07"
   ]
  },
  {
   "cell_type": "code",
   "execution_count": 44,
   "metadata": {},
   "outputs": [
    {
     "data": {
      "text/plain": [
       "-0.3299337748344371"
      ]
     },
     "execution_count": 44,
     "metadata": {},
     "output_type": "execute_result"
    }
   ],
   "source": [
    "(2.03-2.07*0.74)/(-1.51)"
   ]
  },
  {
   "cell_type": "code",
   "execution_count": null,
   "metadata": {},
   "outputs": [],
   "source": []
  }
 ],
 "metadata": {
  "kernelspec": {
   "display_name": "Python 3",
   "language": "python",
   "name": "python3"
  },
  "language_info": {
   "codemirror_mode": {
    "name": "ipython",
    "version": 3
   },
   "file_extension": ".py",
   "mimetype": "text/x-python",
   "name": "python",
   "nbconvert_exporter": "python",
   "pygments_lexer": "ipython3",
   "version": "3.8.6"
  }
 },
 "nbformat": 4,
 "nbformat_minor": 4
}
