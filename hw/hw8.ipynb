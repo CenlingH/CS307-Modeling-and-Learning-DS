{
 "cells": [
  {
   "cell_type": "code",
   "execution_count": 4,
   "id": "alternative-leave",
   "metadata": {},
   "outputs": [
    {
     "data": {
      "text/plain": [
       "array([0.26945115, 0.25836321, 0.20455523])"
      ]
     },
     "execution_count": 4,
     "metadata": {},
     "output_type": "execute_result"
    }
   ],
   "source": [
    "import numpy as np\n",
    "from scipy.stats import norm"
   ]
  },
  {
   "cell_type": "code",
   "execution_count": 5,
   "id": "collaborative-insulin",
   "metadata": {},
   "outputs": [
    {
     "data": {
      "text/plain": [
       "array([0.32935497, 0.30799424, 0.33735332])"
      ]
     },
     "execution_count": 5,
     "metadata": {},
     "output_type": "execute_result"
    }
   ],
   "source": [
    "# 8.02\n",
    "x = np.array([0.61, 0.31, -1.23, -0.46, -0.34, -0.47, -0.43, 0.03, -0.24, 0.01])\n",
    "eval_points = np.array([0.26,0.41,-0.61])\n",
    "\n",
    "ans=np.empty(3)\n",
    "kernel= lambda x:norm.pdf(x)\n",
    "for i,point in enumerate(eval_points):\n",
    "    ans[i]=1/len(x)*np.sum(kernel(point-x))\n",
    "    \n",
    "ans"
   ]
  },
  {
   "cell_type": "code",
   "execution_count": 8,
   "id": "otherwise-knock",
   "metadata": {},
   "outputs": [
    {
     "data": {
      "text/plain": [
       "array([[3.09782182, 2.44165927, 2.14674172],\n",
       "       [0.3176476 , 1.14389685, 2.12877899],\n",
       "       [2.72385756, 2.07542767, 1.85299757],\n",
       "       [0.9338094 , 0.70710678, 1.47979728],\n",
       "       [2.2174084 , 1.54547727, 1.42172431],\n",
       "       [4.3200463 , 3.40523127, 2.47212459],\n",
       "       [2.19456146, 1.22494898, 0.31575307],\n",
       "       [1.29495174, 0.55542776, 0.98045908],\n",
       "       [1.64368488, 1.10258786, 1.20004167],\n",
       "       [2.17680959, 2.48815192, 3.03033002],\n",
       "       [2.67798432, 3.53751325, 4.42675954],\n",
       "       [1.70519794, 2.52715255, 3.4121694 ]])"
      ]
     },
     "execution_count": 8,
     "metadata": {},
     "output_type": "execute_result"
    }
   ],
   "source": [
    "# 8.03\n",
    "from scipy.spatial.distance import cdist\n",
    "\n",
    "d = np.array([[0.62, 3.93], [3.49, 2.96], [0.99, 3.87], [2.72, 3.4], [1.52, 3.89], [2.22, 7.32], [2.24, 4.93], [2.52, 3.89], [3.75, 4.88], [5.53, 4.32], [6.14, 2.28], [5.3, 2.85]])\n",
    "r = np.array([[1.0, 0.0, 0.0], [0.0, 1.0, 0.0], [0.0, 1.0, 0.0], [0.0, 0.0, 1.0], [0.0, 0.0, 1.0], [0.0, 0.0, 1.0], [0.0, 1.0, 0.0], [1.0, 0.0, 0.0], [0.0, 0.0, 1.0], [0.0, 1.0, 0.0], [1.0, 0.0, 0.0], [1.0, 0.0, 0.0]])\n",
    "c = np.array([[3.64, 3.24], [3.06, 4.02], [2.55, 4.87]])\n",
    "\n",
    "distances = cdist(d, c)\n",
    "distances"
   ]
  },
  {
   "cell_type": "code",
   "execution_count": 18,
   "id": "literary-switzerland",
   "metadata": {},
   "outputs": [
    {
     "data": {
      "text/plain": [
       "46.422599999999996"
      ]
     },
     "execution_count": 18,
     "metadata": {},
     "output_type": "execute_result"
    }
   ],
   "source": [
    "C_i=0\n",
    "for xi,x in enumerate(d):\n",
    "    for i in range(3):\n",
    "        if r[xi][i]==1:\n",
    "            C_i+=np.sum((x-c[i])**2)\n",
    "            break\n",
    "C_i"
   ]
  },
  {
   "cell_type": "code",
   "execution_count": 21,
   "id": "returning-origin",
   "metadata": {},
   "outputs": [
    {
     "data": {
      "text/plain": [
       "array([[0., 0., 1.],\n",
       "       [1., 0., 0.],\n",
       "       [0., 0., 1.],\n",
       "       [0., 1., 0.],\n",
       "       [0., 0., 1.],\n",
       "       [0., 0., 1.],\n",
       "       [0., 0., 1.],\n",
       "       [0., 1., 0.],\n",
       "       [0., 1., 0.],\n",
       "       [1., 0., 0.],\n",
       "       [1., 0., 0.],\n",
       "       [1., 0., 0.]])"
      ]
     },
     "execution_count": 21,
     "metadata": {},
     "output_type": "execute_result"
    }
   ],
   "source": [
    "# 以下用来修改distance\n",
    "new_r = np.zeros_like(distances)\n",
    "new_r[np.arange(len(d)), np.argmin(distances, axis=1)] = 1\n",
    "new_r"
   ]
  },
  {
   "cell_type": "code",
   "execution_count": 22,
   "id": "close-quantity",
   "metadata": {},
   "outputs": [
    {
     "data": {
      "text/plain": [
       "33.21739999999999"
      ]
     },
     "execution_count": 22,
     "metadata": {},
     "output_type": "execute_result"
    }
   ],
   "source": [
    "C_a=0\n",
    "for xi,x in enumerate(d):\n",
    "    for i in range(3):\n",
    "        if new_r[xi][i]==1:\n",
    "            C_a+=np.sum((x-c[i])**2)\n",
    "            break\n",
    "C_a"
   ]
  },
  {
   "cell_type": "code",
   "execution_count": null,
   "id": "equivalent-angle",
   "metadata": {},
   "outputs": [
    {
     "data": {
      "text/plain": [
       "29.105900000000002"
      ]
     },
     "execution_count": 23,
     "metadata": {},
     "output_type": "execute_result"
    }
   ],
   "source": [
    "# 8.04\n",
    "d = np.array([[3.98, -0.27], [4.59, 1.59], [2.92, 1.8], [3.16, 1.39], [3.07, 4.84], [2.88, 4.19], [3.35, 5.34], [3.03, 4.73], [5.18, 5.49], [4.47, 2.08], [6.22, 3.96], [4.64, 3.83]])\n",
    "r = np.array([[0.0, 1.0, 0.0], [0.0, 1.0, 0.0], [1.0, 0.0, 0.0], [0.0, 1.0, 0.0], [0.0, 0.0, 1.0], [0.0, 0.0, 1.0], [0.0, 0.0, 1.0], [0.0, 0.0, 1.0], [0.0, 0.0, 1.0], [0.0, 1.0, 0.0], [0.0, 1.0, 0.0], [1.0, 0.0, 0.0]])\n",
    "c = np.array([[3.9, 3.16], [4.46, 2.5], [3.51, 4.08]])\n",
    "\n",
    "C_i=0\n",
    "for xi,x in enumerate(d):\n",
    "    for i in range(3):\n",
    "        if r[xi][i]==1:\n",
    "            C_i+=np.sum((x-c[i])**2)\n",
    "            break\n",
    "C_i"
   ]
  },
  {
   "cell_type": "code",
   "execution_count": 25,
   "id": "ceramic-database",
   "metadata": {},
   "outputs": [
    {
     "data": {
      "text/plain": [
       "array([[3.78 , 2.815],\n",
       "       [4.484, 1.75 ],\n",
       "       [3.502, 4.918]])"
      ]
     },
     "execution_count": 25,
     "metadata": {},
     "output_type": "execute_result"
    }
   ],
   "source": [
    "sums=np.zeros((3,2))\n",
    "counts=np.zeros(3)\n",
    "for xi,x in enumerate(d):\n",
    "    for i in range(3):\n",
    "        if r[xi][i]==1:\n",
    "            sums[i]+=x\n",
    "            counts[i]+=1\n",
    "            break\n",
    "new_c = sums/counts.reshape(-1,1)\n",
    "new_c"
   ]
  },
  {
   "cell_type": "code",
   "execution_count": 26,
   "id": "static-investor",
   "metadata": {},
   "outputs": [
    {
     "data": {
      "text/plain": [
       "22.512129999999996"
      ]
     },
     "execution_count": 26,
     "metadata": {},
     "output_type": "execute_result"
    }
   ],
   "source": [
    "C_a=0\n",
    "for xi,x in enumerate(d):\n",
    "    for i in range(3):\n",
    "        if r[xi][i]==1:\n",
    "            C_a+=np.sum((x-new_c[i])**2)\n",
    "            break\n",
    "C_a"
   ]
  },
  {
   "cell_type": "code",
   "execution_count": null,
   "id": "automated-member",
   "metadata": {},
   "outputs": [],
   "source": []
  }
 ],
 "metadata": {
  "kernelspec": {
   "display_name": "Python 3",
   "language": "python",
   "name": "python3"
  },
  "language_info": {
   "codemirror_mode": {
    "name": "ipython",
    "version": 3
   },
   "file_extension": ".py",
   "mimetype": "text/x-python",
   "name": "python",
   "nbconvert_exporter": "python",
   "pygments_lexer": "ipython3",
   "version": "3.8.6"
  }
 },
 "nbformat": 4,
 "nbformat_minor": 5
}
