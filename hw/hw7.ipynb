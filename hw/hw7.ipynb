{
 "cells": [
  {
   "cell_type": "code",
   "execution_count": 4,
   "id": "catholic-farming",
   "metadata": {},
   "outputs": [
    {
     "data": {
      "text/plain": [
       "0.9058158319870759"
      ]
     },
     "execution_count": 4,
     "metadata": {},
     "output_type": "execute_result"
    }
   ],
   "source": [
    "# 7.02\n",
    "ans1=(0.63*0.89)/(0.63*0.89+0.53*0.11)\n",
    "ans2=0.47*0.11/(1-(0.63*0.89+0.53*0.11))"
   ]
  },
  {
   "cell_type": "code",
   "execution_count": 6,
   "id": "important-conviction",
   "metadata": {},
   "outputs": [
    {
     "name": "stdout",
     "output_type": "stream",
     "text": [
      "0.10335917312661498 0.16020671834625322 0.7364341085271318\n"
     ]
    }
   ],
   "source": [
    "# 7.03\n",
    "ans1=0.3*0.12/(0.12*0.3+0.31*0.18+0.45*0.57)\n",
    "ans2=0.31*0.18/(0.12*0.3+0.31*0.18+0.45*0.57)\n",
    "ans3=0.57*0.45/(0.12*0.3+0.31*0.18+0.45*0.57)\n",
    "print(ans1,ans2,ans3)"
   ]
  },
  {
   "cell_type": "code",
   "execution_count": 7,
   "id": "rocky-pierre",
   "metadata": {},
   "outputs": [
    {
     "name": "stdout",
     "output_type": "stream",
     "text": [
      "0.7864077669902912 0.21359223300970873 0.711340206185567 0.288659793814433\n"
     ]
    }
   ],
   "source": [
    "# 7.04\n",
    "ans1=0.54*0.75/(0.54*0.75+0.44*0.25)\n",
    "ans2=0.44*0.25/(0.54*0.75+0.44*0.25)\n",
    "ans3=0.46*0.75/(0.46*0.75+0.25*0.56)\n",
    "ans4=0.56*0.25/(0.46*0.75+0.25*0.56)\n",
    "print(ans1,ans2,ans3,ans4)"
   ]
  },
  {
   "cell_type": "code",
   "execution_count": 16,
   "id": "colonial-resident",
   "metadata": {},
   "outputs": [
    {
     "name": "stdout",
     "output_type": "stream",
     "text": [
      "0.3604187815379239 0.5654324206928958 0.1735002266608473\n"
     ]
    }
   ],
   "source": [
    "# 7.06\n",
    "import scipy.stats as stats\n",
    "D1=stats.norm(loc=3,scale=2)\n",
    "D2=stats.norm(loc=4,scale=2)\n",
    "D3=stats.norm(loc=6,scale=1)\n",
    "p1=D1.pdf(3.95)\n",
    "p2=D2.pdf(3.06)\n",
    "p3=D3.pdf(4.75)\n",
    "ans1=p1*0.34/(D1.pdf(3.95)*0.34+D2.pdf(3.95)*0.5+D3.pdf(3.95)*0.16)\n",
    "ans2=p2*0.5/(D1.pdf(3.06)*0.34+D2.pdf(3.06)*0.5+D3.pdf(3.06)*0.16)\n",
    "ans3=p3*0.16/(D1.pdf(4.75)*0.34+D2.pdf(4.75)*0.5+D3.pdf(4.75)*0.16)\n",
    "print(ans1,ans2,ans3)"
   ]
  },
  {
   "cell_type": "code",
   "execution_count": 20,
   "id": "european-lambda",
   "metadata": {},
   "outputs": [
    {
     "name": "stdout",
     "output_type": "stream",
     "text": [
      "0.07999999999999999 0.5 0.9400000000000001\n"
     ]
    }
   ],
   "source": [
    "# 7.07\n",
    "D1=stats.norm(loc=3, scale=0.7)\n",
    "D2=stats.norm(loc=5,scale=0.7)\n",
    "ans1=D1.pdf(4)*0.08/(D1.pdf(4)*0.08+D2.pdf(4)*0.92)\n",
    "ans2=D1.pdf(4)*0.5/(D1.pdf(4)*0.5+D2.pdf(4)*0.5)\n",
    "ans3=D1.pdf(4)*0.94/(D1.pdf(4)*0.94+D2.pdf(4)*0.06)\n",
    "print(ans1,ans2,ans3)"
   ]
  },
  {
   "cell_type": "code",
   "execution_count": 26,
   "id": "mobile-transsexual",
   "metadata": {},
   "outputs": [
    {
     "name": "stdout",
     "output_type": "stream",
     "text": [
      "0.15798944801253553 0.42965807799827427 0.4123524739891902\n",
      "0.20260315055156547 0.46022275448647504 0.33717409496195944\n",
      "0.17340244749775185 0.4418969269157461 0.38470062558650214\n"
     ]
    }
   ],
   "source": [
    "# 7.08\n",
    "D1=stats.norm(loc=1,scale=2)\n",
    "D2=stats.norm(loc=3,scale=2)\n",
    "D3=stats.norm(loc=6,scale=2)\n",
    "a1=D1.pdf(4.13)*0.32/(D1.pdf(4.13)*0.32+D2.pdf(4.13)*0.3+D3.pdf(4.13)*0.38)\n",
    "b1=D2.pdf(4.13)*0.3/(D1.pdf(4.13)*0.32+D2.pdf(4.13)*0.3+D3.pdf(4.13)*0.38)\n",
    "c1=D3.pdf(4.13)*0.38/(D1.pdf(4.13)*0.32+D2.pdf(4.13)*0.3+D3.pdf(4.13)*0.38)\n",
    "print(a1,b1,c1)\n",
    "a2=D1.pdf(3.77)*0.32/(D1.pdf(3.77)*0.32+D2.pdf(3.77)*0.3+D3.pdf(3.77)*0.38)\n",
    "b2=D2.pdf(3.77)*0.3/(D1.pdf(3.77)*0.32+D2.pdf(3.77)*0.3+D3.pdf(3.77)*0.38)\n",
    "c2=D3.pdf(3.77)*0.38/(D1.pdf(3.77)*0.32+D2.pdf(3.77)*0.3+D3.pdf(3.77)*0.38)\n",
    "print(a2,b2,c2)\n",
    "a3=D1.pdf(4)*0.32/(D1.pdf(4)*0.32+D2.pdf(4)*0.3+D3.pdf(4)*0.38)\n",
    "b3=D2.pdf(4)*0.3/(D1.pdf(4)*0.32+D2.pdf(4)*0.3+D3.pdf(4)*0.38)\n",
    "c3=D3.pdf(4)*0.38/(D1.pdf(4)*0.32+D2.pdf(4)*0.3+D3.pdf(4)*0.38)\n",
    "print(a3,b3,c3)"
   ]
  },
  {
   "cell_type": "code",
   "execution_count": 3,
   "id": "particular-logging",
   "metadata": {},
   "outputs": [
    {
     "name": "stdout",
     "output_type": "stream",
     "text": [
      "0.3061151334814211 0.6938848665185788\n"
     ]
    }
   ],
   "source": [
    "# 7.09\n",
    "from scipy.stats import multivariate_normal\n",
    "import numpy as np\n",
    "X=np.array([3.2,4.3,5.2])\n",
    "mu_a=np.array([2.2,3.5,3.7])\n",
    "mu_b=np.array([3.5,4.4,6.5])\n",
    "sigma=np.array([[9,0,0],[0,4,0],[0,0,4]])\n",
    "p1=multivariate_normal.pdf(X,mean=mu_a,cov=sigma)\n",
    "p2=multivariate_normal.pdf(X,mean=mu_b,cov=sigma)\n",
    "ans1=p1*0.35/(p1*0.35+p2*0.65)\n",
    "ans2=1-ans1\n",
    "print(ans1,ans2)"
   ]
  },
  {
   "cell_type": "code",
   "execution_count": 25,
   "id": "functional-livestock",
   "metadata": {},
   "outputs": [
    {
     "name": "stdout",
     "output_type": "stream",
     "text": [
      "0.22378463115545816 0.7762153688445419\n",
      "4.384642857142857 4.023214285714286 7.093333333333334 7.294285714285714\n",
      "0.8340155965604734 1.008984827761578 1.0307941152026954 1.1705536802587684\n",
      "0.5714285714285714 0.42857142857142855\n"
     ]
    }
   ],
   "source": [
    "# 7.10\n",
    "import pandas as pd\n",
    "import numpy as np\n",
    "from scipy.stats import multivariate_normal\n",
    "x_1 = np.array([4.71, 5.54, 7.17, 3.92, 7.44, 3.65, 3.56, 4.42, 5.57, 4.3, 6.03, 6.48, 4.04, 5.83, 5.13, 7.68, 4.7, 4.29, 3.75, 3.9, 4.96, 6.17, 7.27, 7.97, 7.8, 3.52, 4.76, 3.16, 8.42, 7.94, 5.84, 6.68, 4.88, 4.49, 8.73, 4.49, 5.38, 8.02, 4.68, 5.64, 4.26, 3.72, 8.02, 6.57, 7.06, 7.59, 3.25, 2.49, 5.86])\n",
    "x_2 = x_2 = np.array([4.21, 3.47, 7.35, 4.62, 9.15, 6.06, 5.73, 3.59, 8.55, 3.37, 7.94, 7.57, 3.28, 3.68, 5.09, 7.52, 5.41, 5.03, 4.16, 3.76, 3.94, 7.22, 7.11, 10.08, 7.29, 3.21, 5.15, 4.01, 6.94, 7.34, 4.25, 7.03, 4.44, 3.83, 5.88, 6.29, 2.04, 7.57, 1.13, 3.59, 3.84, 4.52, 5.49, 8.31, 5.26, 5.45, 3.65, 3.59, 7.84])\n",
    "A, B = \"A\", \"B\"\n",
    "y = y = np.array([A, A, B, A, B, A, A, A, B, A, B, B, A, A, A, B, A, A, A, A, A, B, B, B, B, A, A, A, B, B, A, B, A, A, B, B, A, B, A, A, A, A, B, B, B, B, A, A, B])\n",
    "df = pd.DataFrame({'y': y, 'x_1': x_1, 'x_2': x_2})\n",
    "\n",
    "df_a=df[df['y']=='A']\n",
    "df_b=df[df['y']=='B']\n",
    "\n",
    "pi_A=28/49\n",
    "pi_B=21/49\n",
    "mu_x1_A = df_a['x_1'].mean()  # Mean of x_1 for class A\n",
    "mu_x2_A = df_a['x_2'].mean()  # Mean of x_2 for class A\n",
    "std_x1_A = df_a['x_1'].std(ddof=0)  # Std of x_1 for class A\n",
    "std_x2_A = df_a['x_2'].std(ddof=0)  # Std of x_2 for class A\n",
    "mu_x1_B = df_b['x_1'].mean()  # Mean of x_1 for class B\n",
    "mu_x2_B = df_b['x_2'].mean()  # Mean of x_2 for class B\n",
    "std_x1_B = df_b['x_1'].std(ddof=0)  # Std of x_1 for class B\n",
    "std_x2_B = df_b['x_2'].std(ddof=0)  # Std of x_2 for class B\n",
    "rv_A = multivariate_normal([mu_x1_A, mu_x2_A], [[std_x1_A**2, 0], [0, std_x2_A**2]])\n",
    "rv_B = multivariate_normal([mu_x1_B, mu_x2_B], [[std_x1_B**2, 0], [0, std_x2_B**2]])\n",
    "\n",
    "new_x1, new_x2 = 4.62, 7.13  # Replace with actual values\n",
    "\n",
    "likelihood_A = rv_A.pdf([new_x1, new_x2])\n",
    "likelihood_B = rv_B.pdf([new_x1, new_x2])\n",
    "\n",
    "posterior_A = (likelihood_A * pi_A) / (likelihood_A * pi_A + likelihood_B * pi_B)\n",
    "posterior_B = (likelihood_B * pi_B) / (likelihood_A * pi_A + likelihood_B * pi_B)\n",
    "\n",
    "print(posterior_A, posterior_B)\n",
    "print(mu_x1_A,mu_x2_A,mu_x1_B,mu_x2_B)\n",
    "print(std_x1_A,std_x2_A,std_x1_B,std_x2_B)\n",
    "print(pi_A,pi_B)"
   ]
  },
  {
   "cell_type": "code",
   "execution_count": 22,
   "id": "addressed-mistress",
   "metadata": {},
   "outputs": [
    {
     "data": {
      "text/plain": [
       "21"
      ]
     },
     "execution_count": 22,
     "metadata": {},
     "output_type": "execute_result"
    }
   ],
   "source": []
  },
  {
   "cell_type": "code",
   "execution_count": null,
   "id": "correct-deployment",
   "metadata": {},
   "outputs": [],
   "source": []
  }
 ],
 "metadata": {
  "kernelspec": {
   "display_name": "Python 3",
   "language": "python",
   "name": "python3"
  },
  "language_info": {
   "codemirror_mode": {
    "name": "ipython",
    "version": 3
   },
   "file_extension": ".py",
   "mimetype": "text/x-python",
   "name": "python",
   "nbconvert_exporter": "python",
   "pygments_lexer": "ipython3",
   "version": "3.8.6"
  }
 },
 "nbformat": 4,
 "nbformat_minor": 5
}
