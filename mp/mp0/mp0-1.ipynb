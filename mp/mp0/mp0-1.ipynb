{
 "cells": [
  {
   "cell_type": "code",
   "execution_count": 3,
   "id": "65eee358",
   "metadata": {},
   "outputs": [],
   "source": [
    "import numpy as np"
   ]
  },
  {
   "cell_type": "code",
   "execution_count": 4,
   "id": "otherwise-trademark",
   "metadata": {},
   "outputs": [],
   "source": [
    "y_true = np.array([0, 0, 1, 1])\n",
    "y_pred = np.array([0, 1, 1, 1])"
   ]
  },
  {
   "cell_type": "code",
   "execution_count": 5,
   "id": "potential-spank",
   "metadata": {},
   "outputs": [
    {
     "data": {
      "text/plain": [
       "'def misclassification(y_true,y_pred):\\n    ans=0\\n    for i in range(len(y_true)):\\n        if y_true[i]==y_pred[i]:\\n            ans+=1/(len(y_true))\\n    return 1-ans'"
      ]
     },
     "execution_count": 5,
     "metadata": {},
     "output_type": "execute_result"
    }
   ],
   "source": [
    "'''def accuracy(y_true, y_pred):\n",
    "    ans=0\n",
    "    for i in range(len(y_true)):\n",
    "        if y_true[i]==y_pred[i]:\n",
    "            ans+=1/(len(y_true))\n",
    "    return ans'''\n",
    "    \n",
    "'''def misclassification(y_true,y_pred):\n",
    "    ans=0\n",
    "    for i in range(len(y_true)):\n",
    "        if y_true[i]==y_pred[i]:\n",
    "            ans+=1/(len(y_true))\n",
    "    return 1-ans'''\n",
    "   "
   ]
  },
  {
   "cell_type": "code",
   "execution_count": 6,
   "id": "governing-cyprus",
   "metadata": {},
   "outputs": [],
   "source": [
    "'''def accuracy(y_true,y_pred):\n",
    "    return np.sum(y_true==y_pred)*1/len(y_true)'''\n",
    "\n",
    "def accuracy(y_true,y_pred):\n",
    "    return np.mean(y_true==y_pred)\n",
    "def misclassification(y_true,y_pred):\n",
    "    return 1-accuracy(y_true,y_pred)\n"
   ]
  },
  {
   "cell_type": "code",
   "execution_count": 10,
   "id": "782f56b5",
   "metadata": {},
   "outputs": [
    {
     "name": "stdout",
     "output_type": "stream",
     "text": [
      "[ True False  True  True]\n"
     ]
    }
   ],
   "source": [
    "print(y_true==y_pred) # calculate the 1,0,1,1"
   ]
  },
  {
   "cell_type": "code",
   "execution_count": 8,
   "id": "listed-afghanistan",
   "metadata": {},
   "outputs": [],
   "source": [
    "assert accuracy(y_true, y_pred) == 0.75\n",
    "assert misclassification(y_true, y_pred) == 0.25     "
   ]
  },
  {
   "cell_type": "code",
   "execution_count": null,
   "id": "composed-wildlife",
   "metadata": {},
   "outputs": [],
   "source": []
  }
 ],
 "metadata": {
  "kernelspec": {
   "display_name": "Python 3",
   "language": "python",
   "name": "python3"
  },
  "language_info": {
   "codemirror_mode": {
    "name": "ipython",
    "version": 3
   },
   "file_extension": ".py",
   "mimetype": "text/x-python",
   "name": "python",
   "nbconvert_exporter": "python",
   "pygments_lexer": "ipython3",
   "version": "3.10.5"
  }
 },
 "nbformat": 4,
 "nbformat_minor": 5
}
